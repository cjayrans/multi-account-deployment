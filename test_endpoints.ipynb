{
 "cells": [
  {
   "cell_type": "code",
   "execution_count": null,
   "id": "initial_id",
   "metadata": {
    "collapsed": true
   },
   "outputs": [],
   "source": "import boto3"
  },
  {
   "metadata": {},
   "cell_type": "code",
   "outputs": [],
   "execution_count": null,
   "source": [
    "def test_endpoint(endpoint_name, payload):\n",
    "    client = boto3.client(\"sagemaker-runtime\", region_name=\"us-east-1\")\n",
    "\n",
    "    try:\n",
    "        response = client.invoke_endpoint(\n",
    "            EndpointName=endpoint_name,\n",
    "            ContentType=\"text/csv\",\n",
    "            Body=payload\n",
    "        )\n",
    "        result = response[\"Body\"].read().decode(\"utf-8\")\n",
    "        print(f\"\\n✅ SUCCESS - Endpoint: {endpoint_name}\\nPrediction: {result}\")\n",
    "    except client.exceptions.ModelError as e:\n",
    "        print(f\"\\n❌ ModelError - Endpoint: {endpoint_name}\\nMessage: {e.response['Error']['Message']}\")\n",
    "    except Exception as e:\n",
    "        print(f\"\\n❌ Unexpected Error - Endpoint: {endpoint_name}\\n{str(e)}\")"
   ],
   "id": "6a002fbef657730f"
  },
  {
   "metadata": {},
   "cell_type": "code",
   "outputs": [],
   "execution_count": null,
   "source": "payload = \"5,0.455,0.365,0.095,0.5140,0.2245,0.1010,0.150,1.0,0.0\"",
   "id": "d92fe9d14e252928"
  },
  {
   "metadata": {
    "ExecuteTime": {
     "end_time": "2025-07-27T21:04:46.499621Z",
     "start_time": "2025-07-27T21:04:46.496658Z"
    }
   },
   "cell_type": "code",
   "source": [
    "# Test Stage\n",
    "test_endpoint(\"mlops-abalone-v3-staging\", payload)"
   ],
   "id": "dd2878768259c617",
   "outputs": [],
   "execution_count": 2
  },
  {
   "metadata": {},
   "cell_type": "code",
   "outputs": [],
   "execution_count": null,
   "source": [
    "# Test Prod\n",
    "test_endpoint(\"mlops-abalone-v3-prod\", payload)"
   ],
   "id": "79755f2dedc316c"
  }
 ],
 "metadata": {
  "kernelspec": {
   "display_name": "Python 3",
   "language": "python",
   "name": "python3"
  },
  "language_info": {
   "codemirror_mode": {
    "name": "ipython",
    "version": 2
   },
   "file_extension": ".py",
   "mimetype": "text/x-python",
   "name": "python",
   "nbconvert_exporter": "python",
   "pygments_lexer": "ipython2",
   "version": "2.7.6"
  }
 },
 "nbformat": 4,
 "nbformat_minor": 5
}
